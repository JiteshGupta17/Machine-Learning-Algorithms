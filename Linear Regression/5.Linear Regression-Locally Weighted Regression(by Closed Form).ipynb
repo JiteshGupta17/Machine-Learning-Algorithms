{
 "cells": [
  {
   "cell_type": "code",
   "execution_count": 12,
   "metadata": {},
   "outputs": [],
   "source": [
    " #LOwess"
   ]
  },
  {
   "cell_type": "code",
   "execution_count": 1,
   "metadata": {},
   "outputs": [],
   "source": [
    "import matplotlib.pyplot as plt\n",
    "import pandas as pd\n",
    "import numpy as np\n",
    "\n",
    "from sklearn.datasets import make_regression"
   ]
  },
  {
   "cell_type": "code",
   "execution_count": 2,
   "metadata": {},
   "outputs": [
    {
     "data": {
      "text/plain": [
       "<matplotlib.collections.PathCollection at 0x12aedc50>"
      ]
     },
     "execution_count": 2,
     "metadata": {},
     "output_type": "execute_result"
    },
    {
     "data": {
      "image/png": "[encoded data removed]",
      "text/plain": [
       "<Figure size 432x288 with 1 Axes>"
      ]
     },
     "metadata": {
      "needs_background": "light"
     },
     "output_type": "display_data"
    }
   ],
   "source": [
    "#Generation of Data\n",
    "std=1\n",
    "u=0\n",
    "a=(np.random.randn(300)*std +u)\n",
    "noise=(np.random.randn(300))\n",
    "b=a**3 + 5 + noise \n",
    "plt.figure \n",
    "plt.scatter(a,b)"
   ]
  },
  {
   "cell_type": "code",
   "execution_count": 3,
   "metadata": {},
   "outputs": [],
   "source": [
    "def getw(a,queryx,tau):\n",
    "    m=a.shape[0]\n",
    "    w=np.mat(np.eye(m))\n",
    "    \n",
    "    for i in range(m):\n",
    "        x=queryx\n",
    "        w[i,i]=np.exp(np.dot((a[i]-x),(a[i]-x).T)/(-2*tau*tau))\n",
    "        \n",
    "    return w     "
   ]
  },
  {
   "cell_type": "code",
   "execution_count": 4,
   "metadata": {},
   "outputs": [
    {
     "name": "stdout",
     "output_type": "stream",
     "text": [
      "[[0.54786455 0.         0.         ... 0.         0.         0.        ]\n",
      " [0.         0.90003287 0.         ... 0.         0.         0.        ]\n",
      " [0.         0.         0.67590808 ... 0.         0.         0.        ]\n",
      " ...\n",
      " [0.         0.         0.         ... 0.9056521  0.         0.        ]\n",
      " [0.         0.         0.         ... 0.         0.03154999 0.        ]\n",
      " [0.         0.         0.         ... 0.         0.         0.92512906]]\n"
     ]
    }
   ],
   "source": [
    "a=a.reshape((-1,1))\n",
    "b=b.reshape((-1,1))\n",
    "a=np.mat(a)\n",
    "b=np.mat(b)\n",
    "m=a.shape[0]\n",
    "\n",
    "w=getw(a,1,1)\n",
    "print(w)"
   ]
  },
  {
   "cell_type": "code",
   "execution_count": 5,
   "metadata": {},
   "outputs": [
    {
     "name": "stdout",
     "output_type": "stream",
     "text": [
      "[[5.3545926]\n",
      " [2.3866216]]\n",
      "[[13.09580679]]\n"
     ]
    }
   ],
   "source": [
    "def prediction(a,b,query,tau):\n",
    "    m=a.shape[0]\n",
    "    ones=np.ones((m,1))\n",
    "    a_=np.hstack((a,ones))\n",
    "    \n",
    "    qx=np.mat([query,1])\n",
    "    w=getw(a_,qx,tau)\n",
    "    \n",
    "    theta=np.linalg.pinv(a_.T*(w*a_))*(a_.T*(w*b))\n",
    "    \n",
    "    pred=np.dot(qx,theta)\n",
    "    \n",
    "    return theta,pred\n",
    "\n",
    "theta,pred=prediction(a,b,2,1)\n",
    "print(theta)\n",
    "print(pred)"
   ]
  },
  {
   "cell_type": "code",
   "execution_count": 6,
   "metadata": {},
   "outputs": [],
   "source": [
    "#plot of prediction\n",
    "def plotpred(tau):\n",
    "    \n",
    "    x_test=np.linspace(-3,3,50)\n",
    "    y_test=[]\n",
    "    \n",
    "    for i in x_test:\n",
    "        theta,pred=prediction(a,b,i,tau)\n",
    "        y_test.append(pred)\n",
    "        \n",
    "    y_test=np.array(y_test)\n",
    "    aa=np.array(a)\n",
    "    bb=np.array(b)\n",
    "    \n",
    "    plt.figure()\n",
    "    plt.scatter(aa,bb)\n",
    "    plt.scatter(x_test,y_test,c='red')        "
   ]
  },
  {
   "cell_type": "code",
   "execution_count": 7,
   "metadata": {},
   "outputs": [
    {
     "data": {
      "image/png": "[encoded data removed]",
      "text/plain": [
       "<Figure size 432x288 with 1 Axes>"
      ]
     },
     "metadata": {
      "needs_background": "light"
     },
     "output_type": "display_data"
    }
   ],
   "source": [
    "plotpred(0.1)"
   ]
  }
 ],
 "metadata": {
  "kernelspec": {
   "display_name": "Python 3",
   "language": "python",
   "name": "python3"
  },
  "language_info": {
   "codemirror_mode": {
    "name": "ipython",
    "version": 3
   },
   "file_extension": ".py",
   "mimetype": "text/x-python",
   "name": "python",
   "nbconvert_exporter": "python",
   "pygments_lexer": "ipython3",
   "version": "3.7.3"
  }
 },
 "nbformat": 4,
 "nbformat_minor": 2
}
