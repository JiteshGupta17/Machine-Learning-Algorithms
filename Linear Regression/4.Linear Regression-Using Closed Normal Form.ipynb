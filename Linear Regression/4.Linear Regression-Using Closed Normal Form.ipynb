{
 "cells": [
  {
   "cell_type": "markdown",
   "metadata": {},
   "source": [
    "closed form solution of regression"
   ]
  },
  {
   "cell_type": "code",
   "execution_count": 1,
   "metadata": {},
   "outputs": [],
   "source": [
    "import matplotlib.pyplot as plt\n",
    "import pandas as pd\n",
    "import numpy as np\n",
    "\n",
    "from sklearn.datasets import make_regression"
   ]
  },
  {
   "cell_type": "code",
   "execution_count": 2,
   "metadata": {},
   "outputs": [
    {
     "name": "stdout",
     "output_type": "stream",
     "text": [
      "(100, 1)\n",
      "(100, 1)\n"
     ]
    }
   ],
   "source": [
    "x,y=make_regression(n_samples=100,n_features=1,n_informative=1,noise=5,random_state=5)\n",
    "y=y.reshape((-1,1))\n",
    "print(y.shape)\n",
    "print(x.shape)\n"
   ]
  },
  {
   "cell_type": "code",
   "execution_count": 3,
   "metadata": {},
   "outputs": [],
   "source": [
    "#normalise\n",
    "x=(x- x.mean())/x.std()"
   ]
  },
  {
   "cell_type": "code",
   "execution_count": 4,
   "metadata": {},
   "outputs": [
    {
     "data": {
      "image/png": "[encoded data removed]",
      "text/plain": [
       "<Figure size 432x288 with 1 Axes>"
      ]
     },
     "metadata": {
      "needs_background": "light"
     },
     "output_type": "display_data"
    }
   ],
   "source": [
    "#visualise\n",
    "plt.figure()\n",
    "plt.scatter(x,y)\n",
    "plt.show()"
   ]
  },
  {
   "cell_type": "code",
   "execution_count": 5,
   "metadata": {},
   "outputs": [
    {
     "name": "stdout",
     "output_type": "stream",
     "text": [
      "[[-0.56634131  1.        ]\n",
      " [-0.35689162  1.        ]\n",
      " [ 0.99559364  1.        ]\n",
      " [ 0.2743062   1.        ]\n",
      " [ 0.66690673  1.        ]\n",
      " [ 0.16936086  1.        ]\n",
      " [ 0.01940242  1.        ]\n",
      " [-0.98355855  1.        ]\n",
      " [ 2.51265637  1.        ]\n",
      " [-0.21344318  1.        ]\n",
      " [-1.03485493  1.        ]\n",
      " [ 2.14502472  1.        ]\n",
      " [ 0.00987301  1.        ]\n",
      " [ 0.97198263  1.        ]\n",
      " [-0.61619891  1.        ]\n",
      " [-0.48376677  1.        ]\n",
      " [ 0.19126769  1.        ]\n",
      " [ 0.70268171  1.        ]\n",
      " [-3.17004131  1.        ]\n",
      " [ 1.57897147  1.        ]\n",
      " [ 0.43181641  1.        ]\n",
      " [ 1.12548073  1.        ]\n",
      " [-0.55216696  1.        ]\n",
      " [-1.88655115  1.        ]\n",
      " [ 0.37560644  1.        ]\n",
      " [-1.37953104  1.        ]\n",
      " [ 0.43925985  1.        ]\n",
      " [-0.71866447  1.        ]\n",
      " [-0.73383501  1.        ]\n",
      " [-0.91549762  1.        ]\n",
      " [-0.48858099  1.        ]\n",
      " [ 0.594323    1.        ]\n",
      " [-0.85042481  1.        ]\n",
      " [ 1.12780598  1.        ]\n",
      " [ 1.1392961   1.        ]\n",
      " [ 1.04170683  1.        ]\n",
      " [ 1.33548125  1.        ]\n",
      " [-0.42686317  1.        ]\n",
      " [-0.359801    1.        ]\n",
      " [-1.5989881   1.        ]\n",
      " [-0.21211818  1.        ]\n",
      " [ 0.7535169   1.        ]\n",
      " [-0.32947596  1.        ]\n",
      " [-1.7215535   1.        ]\n",
      " [-0.45960646  1.        ]\n",
      " [-1.07497754  1.        ]\n",
      " [ 1.60147345  1.        ]\n",
      " [-0.84252698  1.        ]\n",
      " [ 1.85806808  1.        ]\n",
      " [-0.15452029  1.        ]\n",
      " [ 0.13932409  1.        ]\n",
      " [ 0.94592342  1.        ]\n",
      " [ 0.8390199   1.        ]\n",
      " [ 1.41985441  1.        ]\n",
      " [-0.45266074  1.        ]\n",
      " [-1.34938774  1.        ]\n",
      " [-0.86222337  1.        ]\n",
      " [-0.73573207  1.        ]\n",
      " [ 1.13842201  1.        ]\n",
      " [ 1.55450668  1.        ]\n",
      " [-0.0948013   1.        ]\n",
      " [-0.18335368  1.        ]\n",
      " [ 0.11398078  1.        ]\n",
      " [ 0.28345696  1.        ]\n",
      " [-0.86147493  1.        ]\n",
      " [-0.19165061  1.        ]\n",
      " [-0.61148475  1.        ]\n",
      " [-0.20640795  1.        ]\n",
      " [ 0.73617411  1.        ]\n",
      " [-0.10498818  1.        ]\n",
      " [-0.03480474  1.        ]\n",
      " [ 1.89670091  1.        ]\n",
      " [-0.63729005  1.        ]\n",
      " [-0.45373509  1.        ]\n",
      " [-0.83902408  1.        ]\n",
      " [ 0.7483445   1.        ]\n",
      " [ 2.32933877  1.        ]\n",
      " [ 0.03572612  1.        ]\n",
      " [-1.15164485  1.        ]\n",
      " [ 1.17888458  1.        ]\n",
      " [-0.74105676  1.        ]\n",
      " [-0.57678848  1.        ]\n",
      " [ 0.43276459  1.        ]\n",
      " [-0.77673079  1.        ]\n",
      " [ 0.10317829  1.        ]\n",
      " [-1.01871486  1.        ]\n",
      " [-0.08462975  1.        ]\n",
      " [-0.31840018  1.        ]\n",
      " [-0.17738356  1.        ]\n",
      " [-1.5062888   1.        ]\n",
      " [ 0.60696774  1.        ]\n",
      " [-2.11529195  1.        ]\n",
      " [ 1.28941652  1.        ]\n",
      " [-0.3691164   1.        ]\n",
      " [ 0.51192052  1.        ]\n",
      " [-0.20689482  1.        ]\n",
      " [-0.31543735  1.        ]\n",
      " [ 0.74955663  1.        ]\n",
      " [-0.55702579  1.        ]\n",
      " [ 0.54987945  1.        ]]\n"
     ]
    }
   ],
   "source": [
    "ones=np.ones((x.shape[0],1))\n",
    "x_=np.hstack((x,ones))\n",
    "print(x_)"
   ]
  },
  {
   "cell_type": "code",
   "execution_count": 6,
   "metadata": {},
   "outputs": [],
   "source": [
    "def predict(x,theta):\n",
    "    return np.dot(x,theta)"
   ]
  },
  {
   "cell_type": "code",
   "execution_count": 7,
   "metadata": {},
   "outputs": [],
   "source": [
    "def getclosedForm(x,y):\n",
    "    y=np.mat(y)\n",
    "    firstpart=np.dot(x.T,x)\n",
    "    secondpart=np.dot(x.T,y)\n",
    "    theta=np.linalg.pinv(firstpart)*secondpart\n",
    "    return theta\n",
    "\n",
    "theta=getclosedForm(x_,y)"
   ]
  },
  {
   "cell_type": "code",
   "execution_count": 8,
   "metadata": {},
   "outputs": [
    {
     "data": {
      "text/plain": [
       "[<matplotlib.lines.Line2D at 0x128fc6f0>]"
      ]
     },
     "execution_count": 8,
     "metadata": {},
     "output_type": "execute_result"
    },
    {
     "data": {
      "image/png": "[encoded data removed]",
      "text/plain": [
       "<Figure size 432x288 with 1 Axes>"
      ]
     },
     "metadata": {
      "needs_background": "light"
     },
     "output_type": "display_data"
    }
   ],
   "source": [
    "plt.figure()\n",
    "plt.scatter(x,y)\n",
    "plt.plot(x,predict(x_,theta),c='red')"
   ]
  }
 ],
 "metadata": {
  "kernelspec": {
   "display_name": "Python 3",
   "language": "python",
   "name": "python3"
  },
  "language_info": {
   "codemirror_mode": {
    "name": "ipython",
    "version": 3
   },
   "file_extension": ".py",
   "mimetype": "text/x-python",
   "name": "python",
   "nbconvert_exporter": "python",
   "pygments_lexer": "ipython3",
   "version": "3.7.3"
  }
 },
 "nbformat": 4,
 "nbformat_minor": 2
}
