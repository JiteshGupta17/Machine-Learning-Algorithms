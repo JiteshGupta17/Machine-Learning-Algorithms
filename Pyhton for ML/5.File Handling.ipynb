{
 "cells": [
  {
   "cell_type": "code",
   "execution_count": 5,
   "metadata": {},
   "outputs": [
    {
     "data": {
      "text/plain": [
       "'This is some sample file.\\nThis is some sample text, We are learning file handling.'"
      ]
     },
     "execution_count": 5,
     "metadata": {},
     "output_type": "execute_result"
    }
   ],
   "source": [
    "## f Acts as file handle \n",
    "f = open(\"sample_file.txt\",'r')\n",
    "f.read()"
   ]
  },
  {
   "cell_type": "code",
   "execution_count": 6,
   "metadata": {},
   "outputs": [],
   "source": [
    "#f.close()"
   ]
  },
  {
   "cell_type": "code",
   "execution_count": 8,
   "metadata": {},
   "outputs": [],
   "source": [
    "f = open(\"sample_file.txt\",'w')\n",
    "\n",
    "content = \"Hello World \\n\"\n",
    "l = [content]*3\n",
    "\n",
    "#To write single string f.write(comtent)\n",
    "f.writelines(l)\n",
    "f.close()"
   ]
  },
  {
   "cell_type": "markdown",
   "metadata": {},
   "source": [
    "## Reading from a file"
   ]
  },
  {
   "cell_type": "code",
   "execution_count": 12,
   "metadata": {},
   "outputs": [
    {
     "name": "stdout",
     "output_type": "stream",
     "text": [
      "Hello World \n",
      "\n",
      "['Hello World \\n', 'Hello World \\n']\n",
      "<class 'list'>\n"
     ]
    }
   ],
   "source": [
    "f = open(\"sample_file.txt\",'r')\n",
    "print(f.readline()) #Read only first line\n",
    "l = f.readlines()#gives a list\n",
    "print(l)\n",
    "print(type(l))\n",
    "f.close()"
   ]
  },
  {
   "cell_type": "markdown",
   "metadata": {},
   "source": [
    "## Reading using WITH OPEN"
   ]
  },
  {
   "cell_type": "code",
   "execution_count": 29,
   "metadata": {},
   "outputs": [
    {
     "name": "stdout",
     "output_type": "stream",
     "text": [
      "False\n",
      "Hello World \n",
      "Hello World \n",
      "Hello World \n",
      "\n"
     ]
    },
    {
     "data": {
      "text/plain": [
       "True"
      ]
     },
     "execution_count": 29,
     "metadata": {},
     "output_type": "execute_result"
    }
   ],
   "source": [
    "with open(\"sample_file.txt\",\"r\") as f: \n",
    "    print(f.closed)\n",
    "    print(f.read())\n",
    "    #Automatically closes the file hence preferred\n",
    "    \n",
    "f.closed #true bcoz file is open only in with open block"
   ]
  },
  {
   "cell_type": "code",
   "execution_count": 30,
   "metadata": {},
   "outputs": [
    {
     "name": "stdout",
     "output_type": "stream",
     "text": [
      " World \n",
      "Hello World \n",
      "Hello World \n",
      "\n"
     ]
    }
   ],
   "source": [
    "with open(\"sample_file.txt\",\"r\") as f:\n",
    "    f.seek(5) #changes the position of file handle\n",
    "    print(f.read())"
   ]
  },
  {
   "cell_type": "markdown",
   "metadata": {},
   "source": [
    "# JSON file"
   ]
  },
  {
   "cell_type": "code",
   "execution_count": 31,
   "metadata": {},
   "outputs": [
    {
     "name": "stdout",
     "output_type": "stream",
     "text": [
      "<class 'dict'>\n",
      "{'name': 'A1', 'age': 30}\n"
     ]
    }
   ],
   "source": [
    "import json\n",
    "\n",
    "#Python object(Everything in python is an object)\n",
    "book = {\n",
    "    \"name\":\"learning Python\",\n",
    "    \"Page\":320,\n",
    "    \"authors\":[\n",
    "        {\n",
    "            \"name\":\"A1\",\n",
    "            \"age\":30\n",
    "        },\n",
    "        {\n",
    "            \"name\":\"A2\",\n",
    "            \"age\":40\n",
    "        }\n",
    "    ]\n",
    "}\n",
    "print(type(book))\n",
    "print(book[\"authors\"][0])#[\"name\"])"
   ]
  },
  {
   "cell_type": "code",
   "execution_count": 32,
   "metadata": {},
   "outputs": [],
   "source": [
    "with open(\"myJsonfile.json\",'w') as f:\n",
    "    json.dump(book,f)"
   ]
  },
  {
   "cell_type": "code",
   "execution_count": 37,
   "metadata": {},
   "outputs": [
    {
     "name": "stdout",
     "output_type": "stream",
     "text": [
      "<class 'str'>\n",
      "{\"name\": \"learning Python\", \"Page\": 320, \"authors\": [{\"name\": \"A1\", \"age\": 30}, {\"name\": \"A2\", \"age\": 40}]}\n"
     ]
    }
   ],
   "source": [
    "s = json.dumps(book) #returns a string\n",
    "print(type(s))\n",
    "print(s)\n"
   ]
  },
  {
   "cell_type": "code",
   "execution_count": 40,
   "metadata": {},
   "outputs": [
    {
     "name": "stdout",
     "output_type": "stream",
     "text": [
      "{'name': 'learning Python', 'Page': 320, 'authors': [{'name': 'A1', 'age': 30}, {'name': 'A2', 'age': 40}]}\n",
      "<class 'dict'>\n"
     ]
    }
   ],
   "source": [
    "obj = json.loads(s)\n",
    "print(obj)\n",
    "print(type(obj))"
   ]
  },
  {
   "cell_type": "code",
   "execution_count": null,
   "metadata": {},
   "outputs": [],
   "source": []
  },
  {
   "cell_type": "code",
   "execution_count": null,
   "metadata": {},
   "outputs": [],
   "source": []
  },
  {
   "cell_type": "code",
   "execution_count": null,
   "metadata": {},
   "outputs": [],
   "source": []
  },
  {
   "cell_type": "markdown",
   "metadata": {},
   "source": [
    "# Exception Handling"
   ]
  },
  {
   "cell_type": "markdown",
   "metadata": {},
   "source": [
    "## Try Except"
   ]
  },
  {
   "cell_type": "code",
   "execution_count": 41,
   "metadata": {},
   "outputs": [
    {
     "name": "stdout",
     "output_type": "stream",
     "text": [
      "File doesn't exist\n"
     ]
    }
   ],
   "source": [
    "try :\n",
    "    f = open(\"someMissingfile.txt\",'r')\n",
    "    \n",
    "except FileNotFoundError:\n",
    "    print(\"File doesn't exist\")\n",
    "\n",
    "except Exception:\n",
    "    print(\"Something Went wrong\")"
   ]
  },
  {
   "cell_type": "code",
   "execution_count": 42,
   "metadata": {},
   "outputs": [
    {
     "name": "stdout",
     "output_type": "stream",
     "text": [
      "Something Went wrong\n"
     ]
    }
   ],
   "source": [
    "try :\n",
    "    a = 10/0\n",
    "    \n",
    "except FileNotFoundError:\n",
    "    print(\"File doesn't exist\")\n",
    "\n",
    "except Exception:\n",
    "    print(\"Something Went wrong\")"
   ]
  },
  {
   "cell_type": "code",
   "execution_count": 43,
   "metadata": {},
   "outputs": [
    {
     "name": "stdout",
     "output_type": "stream",
     "text": [
      "b not defined\n",
      "<class 'NameError'>\n"
     ]
    }
   ],
   "source": [
    "try :\n",
    "    a = b\n",
    "    \n",
    "except FileNotFoundError:\n",
    "    print(\"File doesn't exist\")\n",
    "\n",
    "except NameError:\n",
    "    print(\"b not defined\")\n",
    "    print(NameError)\n",
    "    \n",
    "except Exception:\n",
    "    print(\"Something Went wrong\")"
   ]
  },
  {
   "cell_type": "code",
   "execution_count": 48,
   "metadata": {},
   "outputs": [
    {
     "name": "stdout",
     "output_type": "stream",
     "text": [
      "Enter ur name : hell\n",
      "Only when Try block executted successfuly\n",
      "Always executed\n"
     ]
    }
   ],
   "source": [
    "try :\n",
    "    a = input(\"Enter ur name : \")\n",
    "    if(len(a)<3):\n",
    "        raise Exception\n",
    "    \n",
    "except FileNotFoundError:\n",
    "    print(\"File doesn't exist\")\n",
    "\n",
    "except NameError:\n",
    "    print(\"b not defined\")\n",
    "    print(NameError)\n",
    "    \n",
    "except Exception:\n",
    "    print(\"Something Went wrong\")\n",
    "    \n",
    "else:\n",
    "    print(\"Only when Try block executted successfuly\")\n",
    "    \n",
    "finally:\n",
    "    print(\"Always executed\")"
   ]
  },
  {
   "cell_type": "code",
   "execution_count": null,
   "metadata": {},
   "outputs": [],
   "source": []
  }
 ],
 "metadata": {
  "kernelspec": {
   "display_name": "Python 3",
   "language": "python",
   "name": "python3"
  },
  "language_info": {
   "codemirror_mode": {
    "name": "ipython",
    "version": 3
   },
   "file_extension": ".py",
   "mimetype": "text/x-python",
   "name": "python",
   "nbconvert_exporter": "python",
   "pygments_lexer": "ipython3",
   "version": "3.6.5"
  }
 },
 "nbformat": 4,
 "nbformat_minor": 2
}
