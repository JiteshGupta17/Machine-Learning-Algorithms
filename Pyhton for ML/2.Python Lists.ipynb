{
 "cells": [
  {
   "cell_type": "markdown",
   "metadata": {},
   "source": [
    "# Python Data structures"
   ]
  },
  {
   "cell_type": "code",
   "execution_count": 5,
   "metadata": {},
   "outputs": [
    {
     "name": "stdout",
     "output_type": "stream",
     "text": [
      "[1, 2, 3, 'Hello']\n",
      "<class 'list'>\n"
     ]
    }
   ],
   "source": [
    "mylist = [1,2,3,\"Hello\"]\n",
    "print(mylist)\n",
    "print(type(mylist))"
   ]
  },
  {
   "cell_type": "code",
   "execution_count": 6,
   "metadata": {},
   "outputs": [
    {
     "name": "stdout",
     "output_type": "stream",
     "text": [
      "[1, 2, 3]\n"
     ]
    }
   ],
   "source": [
    "l2 = list([1,2,3])\n",
    "print(l2)"
   ]
  },
  {
   "cell_type": "code",
   "execution_count": 7,
   "metadata": {},
   "outputs": [
    {
     "name": "stdout",
     "output_type": "stream",
     "text": [
      "[1, 2, 3]\n",
      "[1, 2, 3, 1, 2, 3]\n",
      "[1, 2, 3, 1, 2, 3, 1, 2, 3]\n"
     ]
    }
   ],
   "source": [
    "l3 = list(l2)\n",
    "print(l3)\n",
    "\n",
    "l3 = l2 + l3\n",
    "print(l3)\n",
    "\n",
    "l3.extend(l2)\n",
    "print(l3)"
   ]
  },
  {
   "cell_type": "code",
   "execution_count": 8,
   "metadata": {},
   "outputs": [
    {
     "name": "stdout",
     "output_type": "stream",
     "text": [
      "[1, 4, 9, 16, 25]\n"
     ]
    }
   ],
   "source": [
    "#Using for loop - List of square nos\n",
    "l4 = list(i*i for i in range(1,6))\n",
    "print(l4)"
   ]
  },
  {
   "cell_type": "markdown",
   "metadata": {},
   "source": [
    "## List Slicing"
   ]
  },
  {
   "cell_type": "code",
   "execution_count": 11,
   "metadata": {},
   "outputs": [
    {
     "name": "stdout",
     "output_type": "stream",
     "text": [
      "[1, 4, 9, 16]\n",
      "[25]\n",
      "[1, 4, 9]\n",
      "[9, 16, 25]\n"
     ]
    }
   ],
   "source": [
    "print(l4[0:4])\n",
    "print(l4[-1:])\n",
    "print(l4[0:3])\n",
    "print(l4[-3:])"
   ]
  },
  {
   "cell_type": "code",
   "execution_count": 26,
   "metadata": {},
   "outputs": [
    {
     "name": "stdout",
     "output_type": "stream",
     "text": [
      "[1, 2, 3, [1, 2], 4, 5, 6]\n"
     ]
    }
   ],
   "source": [
    "l = [1,2]\n",
    "l.append(3)\n",
    "l.append([1,2])\n",
    "l+= [4,5,6]\n",
    "print(l)"
   ]
  },
  {
   "cell_type": "code",
   "execution_count": 22,
   "metadata": {},
   "outputs": [
    {
     "name": "stdout",
     "output_type": "stream",
     "text": [
      "2\n"
     ]
    }
   ],
   "source": [
    "print(l[3][1])"
   ]
  },
  {
   "cell_type": "code",
   "execution_count": 27,
   "metadata": {},
   "outputs": [
    {
     "name": "stdout",
     "output_type": "stream",
     "text": [
      "[1, 3, [1, 2], 4, 5, 6]\n"
     ]
    }
   ],
   "source": [
    "l.remove(2)\n",
    "print(l)"
   ]
  },
  {
   "cell_type": "code",
   "execution_count": 28,
   "metadata": {},
   "outputs": [
    {
     "name": "stdout",
     "output_type": "stream",
     "text": [
      "[3, [1, 2], 4, 5, 6]\n"
     ]
    }
   ],
   "source": [
    "l.remove(l[0])\n",
    "print(l)"
   ]
  },
  {
   "cell_type": "code",
   "execution_count": 29,
   "metadata": {},
   "outputs": [
    {
     "data": {
      "text/plain": [
       "[3, [1, 2], 4, 5]"
      ]
     },
     "execution_count": 29,
     "metadata": {},
     "output_type": "execute_result"
    }
   ],
   "source": [
    "l.pop()\n",
    "l"
   ]
  },
  {
   "cell_type": "markdown",
   "metadata": {},
   "source": [
    "## More functions on list"
   ]
  },
  {
   "cell_type": "code",
   "execution_count": 31,
   "metadata": {},
   "outputs": [
    {
     "name": "stdout",
     "output_type": "stream",
     "text": [
      "18\n",
      "2\n",
      "3\n"
     ]
    }
   ],
   "source": [
    "l = [4,3,2,16,18]\n",
    "print(max(l))\n",
    "print(min(l))\n",
    "\n",
    "#Linear search\n",
    "print(l.index(16))"
   ]
  },
  {
   "cell_type": "code",
   "execution_count": 33,
   "metadata": {},
   "outputs": [
    {
     "name": "stdout",
     "output_type": "stream",
     "text": [
      "[2, 3, 4, 16, 18]\n",
      "[4, 3, 2, 16, 18]\n",
      "[2, 3, 4, 16, 18]\n"
     ]
    }
   ],
   "source": [
    "print(sorted(l))\n",
    "print(l)\n",
    "l = sorted(l)\n",
    "print(l)"
   ]
  },
  {
   "cell_type": "code",
   "execution_count": 38,
   "metadata": {},
   "outputs": [
    {
     "name": "stdout",
     "output_type": "stream",
     "text": [
      "[2, 3, 5, 8]\n",
      "[8, 5, 3, 2]\n"
     ]
    }
   ],
   "source": [
    "l = [5,3,8,2]\n",
    "l.sort()\n",
    "print(l)\n",
    "l.sort(reverse = True)\n",
    "print(l)"
   ]
  },
  {
   "cell_type": "code",
   "execution_count": 5,
   "metadata": {},
   "outputs": [
    {
     "name": "stdout",
     "output_type": "stream",
     "text": [
      "1 2 3 4\n",
      "1 2 3 4\n",
      "<class 'str'>\n",
      "1 2 3 4\n",
      "['1', '2', '3', '4']\n",
      "<class 'list'>\n",
      "1 2 3\n",
      "[1, 4, 9]\n",
      "<class 'list'>\n"
     ]
    }
   ],
   "source": [
    "## Read a list of nos\n",
    "\n",
    "numbers = input()\n",
    "print(numbers)\n",
    "print(type(numbers))\n",
    "\n",
    "numbers = input().split()\n",
    "print(numbers)\n",
    "print(type(numbers)) ##List of string\n",
    "\n",
    "numbers = [ int(number)*int(number) for number in input().split()] \n",
    "print(numbers)\n",
    "print(type(numbers))## List of square of integers"
   ]
  },
  {
   "cell_type": "markdown",
   "metadata": {},
   "source": [
    "## Dictionaries "
   ]
  },
  {
   "cell_type": "code",
   "execution_count": 33,
   "metadata": {},
   "outputs": [
    {
     "name": "stdout",
     "output_type": "stream",
     "text": [
      "<class 'dict'>\n",
      "{'Mango': 100, 'Apple': 80}\n",
      "{'Mango': 100, 'Apple': 80, 'Guava': 90}\n",
      "[10, 20]\n",
      "{'Small': 50, 'Large': 60}\n",
      "50\n",
      "{'Mango': 100, 'Apple': 80, 'Guava': 90, 'Grape': [10, 20], 'Pineapple': {'Small': 50, 'Large': 60}}\n"
     ]
    }
   ],
   "source": [
    "d = {\"Mango\" : 100,\"Apple\":80}\n",
    "print(type(d))\n",
    "print(d)\n",
    "\n",
    "d[\"Guava\"] = 90\n",
    "print(d)\n",
    "  \n",
    "d[\"Grape\"] = [10,20]\n",
    "print(d[\"Grape\"])\n",
    "\n",
    "d[\"Pineapple\"] = {\"Small\":50,\"Large\":60}\n",
    "print(d[\"Pineapple\"])\n",
    "print(d[\"Pineapple\"][\"Small\"])\n",
    "\n",
    "print(d)"
   ]
  },
  {
   "cell_type": "code",
   "execution_count": 34,
   "metadata": {},
   "outputs": [
    {
     "name": "stdout",
     "output_type": "stream",
     "text": [
      "dict_keys(['Mango', 'Apple', 'Guava', 'Grape', 'Pineapple'])\n",
      "dict_values([100, 80, 90, [10, 20], {'Small': 50, 'Large': 60}])\n"
     ]
    }
   ],
   "source": [
    "print(d.keys())\n",
    "print(d.values())"
   ]
  },
  {
   "cell_type": "code",
   "execution_count": 35,
   "metadata": {},
   "outputs": [
    {
     "name": "stdout",
     "output_type": "stream",
     "text": [
      "100\n",
      "None\n",
      "<class 'int'>\n"
     ]
    }
   ],
   "source": [
    "print(d.get(\"Mango\"))\n",
    "print(d.get(\"Mangoes\"))\n",
    "print(type(d.get(\"Mango\")))"
   ]
  },
  {
   "cell_type": "code",
   "execution_count": 36,
   "metadata": {},
   "outputs": [
    {
     "name": "stdout",
     "output_type": "stream",
     "text": [
      "Price of Mango is 100\n"
     ]
    }
   ],
   "source": [
    "if \"Mango\" in d:\n",
    "    print(\"Price of Mango is %d\" %(d[\"Mango\"]))"
   ]
  },
  {
   "cell_type": "code",
   "execution_count": 37,
   "metadata": {},
   "outputs": [
    {
     "name": "stdout",
     "output_type": "stream",
     "text": [
      "dict_items([('Mango', 100), ('Apple', 80), ('Guava', 90), ('Grape', [10, 20]), ('Pineapple', {'Small': 50, 'Large': 60})])\n",
      "[('Mango', 100), ('Apple', 80), ('Guava', 90), ('Grape', [10, 20]), ('Pineapple', {'Small': 50, 'Large': 60})]\n"
     ]
    }
   ],
   "source": [
    "##items()\n",
    "\n",
    "print(d.items())\n",
    "\n",
    "l = list(d.items())\n",
    "print(l)"
   ]
  },
  {
   "cell_type": "code",
   "execution_count": 38,
   "metadata": {},
   "outputs": [
    {
     "name": "stdout",
     "output_type": "stream",
     "text": [
      "{'Mango': 100, 'Apple': 80, 'Grape': [10, 20], 'Pineapple': {'Small': 50, 'Large': 60}, 'Strawberry': 90}\n"
     ]
    }
   ],
   "source": [
    "del d[\"Guava\"]\n",
    "d2 = {\"Strawberry\":90}\n",
    "d.update(d2)\n",
    "print(d)"
   ]
  },
  {
   "cell_type": "code",
   "execution_count": 39,
   "metadata": {},
   "outputs": [
    {
     "name": "stdout",
     "output_type": "stream",
     "text": [
      "5\n"
     ]
    }
   ],
   "source": [
    "print(len(d))"
   ]
  },
  {
   "cell_type": "code",
   "execution_count": 40,
   "metadata": {},
   "outputs": [
    {
     "name": "stdout",
     "output_type": "stream",
     "text": [
      "{'Apple': 100, 'Mango': 120, 'Orange': 30}\n",
      "<class 'dict'>\n"
     ]
    }
   ],
   "source": [
    "l1 = [\"Apple\",\"Mango\",\"Orange\"]\n",
    "l2 = [100,120,30]\n",
    "\n",
    "p = dict(zip(l1,l2))\n",
    "print(p)\n",
    "print(type(p))"
   ]
  },
  {
   "cell_type": "code",
   "execution_count": 41,
   "metadata": {},
   "outputs": [
    {
     "name": "stdout",
     "output_type": "stream",
     "text": [
      "Apple\n",
      "Mango\n",
      "Orange\n"
     ]
    }
   ],
   "source": [
    "for k in p : ##in p.keys() can also be used\n",
    "    print(k)"
   ]
  },
  {
   "cell_type": "markdown",
   "metadata": {},
   "source": [
    "## Tuples in Python"
   ]
  },
  {
   "cell_type": "code",
   "execution_count": 42,
   "metadata": {},
   "outputs": [
    {
     "name": "stdout",
     "output_type": "stream",
     "text": [
      "(1, 2, 3, 'Hello')\n"
     ]
    }
   ],
   "source": [
    "t = (1,2,3,\"Hello\")\n",
    "print(t)"
   ]
  },
  {
   "cell_type": "code",
   "execution_count": 45,
   "metadata": {},
   "outputs": [
    {
     "name": "stdout",
     "output_type": "stream",
     "text": [
      "1\n"
     ]
    }
   ],
   "source": [
    "print(t[0])\n",
    "# t[0] = 5 gives an error"
   ]
  },
  {
   "cell_type": "code",
   "execution_count": 46,
   "metadata": {},
   "outputs": [
    {
     "name": "stdout",
     "output_type": "stream",
     "text": [
      "[1, 2, 3, 'Hello']\n",
      "[5, 2, 3, 'Hello']\n"
     ]
    }
   ],
   "source": [
    "##Converting to list\n",
    "l = list(t)\n",
    "print(l)\n",
    "\n",
    "l[0] = 5\n",
    "print(l)"
   ]
  },
  {
   "cell_type": "code",
   "execution_count": 47,
   "metadata": {},
   "outputs": [
    {
     "name": "stdout",
     "output_type": "stream",
     "text": [
      "(5, 2, 3, 'Hello')\n"
     ]
    }
   ],
   "source": [
    "## List to tuple\n",
    "t2 = tuple(l)\n",
    "print(t2)"
   ]
  },
  {
   "cell_type": "code",
   "execution_count": 49,
   "metadata": {},
   "outputs": [
    {
     "name": "stdout",
     "output_type": "stream",
     "text": [
      "(5, 2, 3, 'Hello', 1, 2, 3, 'Hello')\n",
      "(5, 2, 3, 'Hello', 5, 2, 3, 'Hello', 5, 2, 3, 'Hello')\n"
     ]
    }
   ],
   "source": [
    "#Concatinate\n",
    "t3 = t2 + t\n",
    "print(t3)\n",
    "\n",
    "# Repetition \n",
    "print(t2*3)"
   ]
  },
  {
   "cell_type": "markdown",
   "metadata": {},
   "source": [
    "## Python sets"
   ]
  },
  {
   "cell_type": "code",
   "execution_count": 52,
   "metadata": {},
   "outputs": [
    {
     "name": "stdout",
     "output_type": "stream",
     "text": [
      "{1, 2, 3, 15}\n"
     ]
    }
   ],
   "source": [
    "s = set([15,1,2,3,1])\n",
    "print(s)"
   ]
  },
  {
   "cell_type": "code",
   "execution_count": 53,
   "metadata": {},
   "outputs": [
    {
     "name": "stdout",
     "output_type": "stream",
     "text": [
      "{2, 11, 5, 6}\n"
     ]
    }
   ],
   "source": [
    "s2 = {5,6,11,2,2}\n",
    "print(s2)"
   ]
  },
  {
   "cell_type": "code",
   "execution_count": 55,
   "metadata": {},
   "outputs": [
    {
     "name": "stdout",
     "output_type": "stream",
     "text": [
      "{2, 5, 6, 11, 50}\n"
     ]
    }
   ],
   "source": [
    "s2.add(50)\n",
    "print(s2)"
   ]
  },
  {
   "cell_type": "code",
   "execution_count": 59,
   "metadata": {},
   "outputs": [
    {
     "name": "stdout",
     "output_type": "stream",
     "text": [
      "{1, 2, 3, 5, 6, 11, 15, 50}\n",
      "{1, 2, 3, 5, 6, 11, 15, 50}\n",
      "{2}\n"
     ]
    },
    {
     "data": {
      "text/plain": [
       "{2}"
      ]
     },
     "execution_count": 59,
     "metadata": {},
     "output_type": "execute_result"
    }
   ],
   "source": [
    "print(s.union(s2))\n",
    "\n",
    "print(s | s2)\n",
    "\n",
    "print(s & s2)\n",
    "\n",
    "s.intersection(s2)"
   ]
  },
  {
   "cell_type": "code",
   "execution_count": 60,
   "metadata": {},
   "outputs": [
    {
     "name": "stdout",
     "output_type": "stream",
     "text": [
      "{1, 3, 15}\n",
      "{1, 3, 15}\n"
     ]
    }
   ],
   "source": [
    "print(s - s2)\n",
    "print(s.difference(s2))"
   ]
  },
  {
   "cell_type": "code",
   "execution_count": 62,
   "metadata": {},
   "outputs": [
    {
     "name": "stdout",
     "output_type": "stream",
     "text": [
      "present\n"
     ]
    }
   ],
   "source": [
    "if 1 in s :\n",
    "    print(\"present\")"
   ]
  },
  {
   "cell_type": "code",
   "execution_count": 63,
   "metadata": {},
   "outputs": [
    {
     "name": "stdout",
     "output_type": "stream",
     "text": [
      "{1, 50, 3, 5, 6, 11, 15}\n"
     ]
    }
   ],
   "source": [
    "print(s ^ s2) #Elements only in one of the sets"
   ]
  },
  {
   "cell_type": "code",
   "execution_count": null,
   "metadata": {},
   "outputs": [],
   "source": []
  }
 ],
 "metadata": {
  "kernelspec": {
   "display_name": "Python 3",
   "language": "python",
   "name": "python3"
  },
  "language_info": {
   "codemirror_mode": {
    "name": "ipython",
    "version": 3
   },
   "file_extension": ".py",
   "mimetype": "text/x-python",
   "name": "python",
   "nbconvert_exporter": "python",
   "pygments_lexer": "ipython3",
   "version": "3.6.5"
  }
 },
 "nbformat": 4,
 "nbformat_minor": 2
}
