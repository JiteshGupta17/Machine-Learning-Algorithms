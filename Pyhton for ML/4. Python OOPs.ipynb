{
 "cells": [
  {
   "cell_type": "markdown",
   "metadata": {},
   "source": [
    "## OOPs in a Python"
   ]
  },
  {
   "cell_type": "code",
   "execution_count": 12,
   "metadata": {},
   "outputs": [
    {
     "data": {
      "text/plain": [
       "'\"class Person():\\n    pass\\n\\np = Person()\\nprint(p)\\nprint(type(p))'"
      ]
     },
     "execution_count": 12,
     "metadata": {},
     "output_type": "execute_result"
    }
   ],
   "source": [
    "\"\"\"\"class Person():\n",
    "    pass\n",
    "\n",
    "p = Person()\n",
    "print(p)\n",
    "print(type(p))\"\"\""
   ]
  },
  {
   "cell_type": "code",
   "execution_count": 19,
   "metadata": {},
   "outputs": [],
   "source": [
    "class Person():\n",
    "    \n",
    "    #class variables.common for all objects of same cls\n",
    "    nationality = \"Indian\"\n",
    "    \n",
    "    def __init__(self,pname,cllg):\n",
    "        #Instance variables,diff for each instance\n",
    "        self.name = pname\n",
    "        self.college = cllg\n",
    "        \n",
    "    def sayHI(self,name):\n",
    "        print(\"Hello \",name)\n",
    "    \n",
    "    def introduce(self):\n",
    "        print(\"My name is\",self.name)\n",
    "        print(\"I am from\",self.college)\n",
    "        print(\"I am \",self.nationality)\n",
    "    \n",
    "    "
   ]
  },
  {
   "cell_type": "code",
   "execution_count": 20,
   "metadata": {},
   "outputs": [
    {
     "name": "stdout",
     "output_type": "stream",
     "text": [
      "Hello  World\n",
      "My name is Prateek\n",
      "I am from Coding blocks\n",
      "I am  Indian\n"
     ]
    }
   ],
   "source": [
    "p = Person(\"Prateek\",\"Coding blocks\")\n",
    "p.sayHI(\"World\")\n",
    "p.introduce()"
   ]
  },
  {
   "cell_type": "markdown",
   "metadata": {},
   "source": [
    "## Instance variables vs class variables"
   ]
  },
  {
   "cell_type": "code",
   "execution_count": 23,
   "metadata": {},
   "outputs": [],
   "source": [
    "class Dog():\n",
    "    color = \"Brown\"\n",
    "    #Common for all data member of class\n",
    "    #activities = []\n",
    "    \n",
    "    def __init__(self,breed):\n",
    "        \"\"\"Accepts breed of dog and initialises it\"\"\"\n",
    "        self.activities = []\n",
    "        self.breed = breed\n",
    "        \n",
    "    def addAct(self,act):\n",
    "        self.activities.append(act)\n",
    "   \n",
    "    #Private \n",
    "    def __secretAct(self):\n",
    "        print(\"Doing secret activity\",self.breed)\n",
    "        \n",
    "    def doAct(self):\n",
    "        \"\"\" This is regarrding activities\"\"\"\n",
    "        print(self.breed)\n",
    "        print(self.activities)\n",
    "        self.__secretAct()"
   ]
  },
  {
   "cell_type": "code",
   "execution_count": 25,
   "metadata": {},
   "outputs": [
    {
     "name": "stdout",
     "output_type": "stream",
     "text": [
      "German Shepherd\n",
      "['High Jump', 'Roll Over']\n",
      "Doing secret activity German Shepherd\n",
      "Golden retriever\n",
      "['Low jump']\n",
      "Doing secret activity Golden retriever\n"
     ]
    }
   ],
   "source": [
    "d1 = Dog(\"German Shepherd\")\n",
    "d2 = Dog(\"Golden retriever\")\n",
    "\n",
    "d1.addAct(\"High Jump\")\n",
    "d1.addAct(\"Roll Over\")\n",
    "\n",
    "d2.addAct(\"Low jump\")\n",
    "\n",
    "d1.doAct()\n",
    "d2.doAct()\n",
    "\n",
    "#Dog?\n",
    "#d1.doAct?"
   ]
  },
  {
   "cell_type": "markdown",
   "metadata": {},
   "source": [
    "## Rough"
   ]
  },
  {
   "cell_type": "code",
   "execution_count": 29,
   "metadata": {},
   "outputs": [
    {
     "name": "stdout",
     "output_type": "stream",
     "text": [
      "Name is : Python\n",
      "Name is : Python\n",
      "Name is : Python\n"
     ]
    }
   ],
   "source": [
    "name = \"Python\"\n",
    "print(\"Name is :\",name)\n",
    "print(\"Name is : %s\"%name)\n",
    "print(\"Name is : \"+name)"
   ]
  },
  {
   "cell_type": "code",
   "execution_count": 38,
   "metadata": {},
   "outputs": [
    {
     "name": "stdout",
     "output_type": "stream",
     "text": [
      "Age is 10\n",
      "AGe is 10\n"
     ]
    }
   ],
   "source": [
    "age = 10\n",
    "print(\"Age is %d\"%age)\n",
    "print(\"AGe is\",age)#ACts as string not integer\n",
    "#Wrong print(\"Age is \"+age)\n"
   ]
  },
  {
   "cell_type": "markdown",
   "metadata": {},
   "source": [
    "## INheritance in Python\n"
   ]
  },
  {
   "cell_type": "code",
   "execution_count": 41,
   "metadata": {},
   "outputs": [
    {
     "name": "stdout",
     "output_type": "stream",
     "text": [
      "Init School Member :  Mr Alpha\n",
      "Init Teacher is : Mr Alpha\n",
      "Name : Mr Alpha Age : 30\n",
      "Salary : 4500\n"
     ]
    }
   ],
   "source": [
    "class SchoolMember():\n",
    "    def __init__(self,name,age):\n",
    "        self.name = name\n",
    "        self.age = age\n",
    "        print(\"Init School Member : \",self.name)\n",
    "        \n",
    "    def introduce(self):\n",
    "        print(\"Name : %s Age : %d\"%(self.name,self.age))\n",
    "        \n",
    "class Teacher(SchoolMember):\n",
    "    def __init__(self,name,age,salary):\n",
    "        SchoolMember.__init__(self,name,age)\n",
    "        self.salary = salary\n",
    "        print(\"Init Teacher is :\",self.name)\n",
    "        \n",
    "    def introduce(self):\n",
    "        SchoolMember.introduce(self)\n",
    "        print(\"Salary : %d\"%self.salary)\n",
    "        \n",
    "t = Teacher(\"Mr Alpha\",30,4500)\n",
    "t.introduce()"
   ]
  },
  {
   "cell_type": "code",
   "execution_count": null,
   "metadata": {},
   "outputs": [],
   "source": []
  }
 ],
 "metadata": {
  "kernelspec": {
   "display_name": "Python 3",
   "language": "python",
   "name": "python3"
  },
  "language_info": {
   "codemirror_mode": {
    "name": "ipython",
    "version": 3
   },
   "file_extension": ".py",
   "mimetype": "text/x-python",
   "name": "python",
   "nbconvert_exporter": "python",
   "pygments_lexer": "ipython3",
   "version": "3.6.5"
  }
 },
 "nbformat": 4,
 "nbformat_minor": 2
}
