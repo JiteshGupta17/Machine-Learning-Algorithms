{
 "cells": [
  {
   "cell_type": "code",
   "execution_count": 1,
   "metadata": {},
   "outputs": [
    {
     "name": "stderr",
     "output_type": "stream",
     "text": [
      "Using TensorFlow backend.\n"
     ]
    }
   ],
   "source": [
    "from keras.layers import *\n",
    "from keras.models import Sequential"
   ]
  },
  {
   "cell_type": "code",
   "execution_count": 2,
   "metadata": {},
   "outputs": [
    {
     "name": "stdout",
     "output_type": "stream",
     "text": [
      "Model: \"sequential_1\"\n",
      "_________________________________________________________________\n",
      "Layer (type)                 Output Shape              Param #   \n",
      "=================================================================\n",
      "conv2d_1 (Conv2D)            (None, 26, 26, 32)        320       \n",
      "_________________________________________________________________\n",
      "max_pooling2d_1 (MaxPooling2 (None, 13, 13, 32)        0         \n",
      "_________________________________________________________________\n",
      "conv2d_2 (Conv2D)            (None, 11, 11, 64)        18496     \n",
      "_________________________________________________________________\n",
      "max_pooling2d_2 (MaxPooling2 (None, 5, 5, 64)          0         \n",
      "_________________________________________________________________\n",
      "conv2d_3 (Conv2D)            (None, 3, 3, 64)          36928     \n",
      "_________________________________________________________________\n",
      "flatten_1 (Flatten)          (None, 576)               0         \n",
      "_________________________________________________________________\n",
      "dense_1 (Dense)              (None, 64)                36928     \n",
      "_________________________________________________________________\n",
      "dense_2 (Dense)              (None, 10)                650       \n",
      "=================================================================\n",
      "Total params: 93,322\n",
      "Trainable params: 93,322\n",
      "Non-trainable params: 0\n",
      "_________________________________________________________________\n"
     ]
    }
   ],
   "source": [
    "# Build a Model \n",
    "\n",
    "model = Sequential()\n",
    "model.add(Conv2D(32,(3,3),activation='relu',input_shape=(28,28,1)))\n",
    "model.add(MaxPool2D((2,2)))\n",
    "model.add(Conv2D(64,(3,3),activation='relu',input_shape=(28,28,1)))\n",
    "model.add(MaxPool2D((2,2)))\n",
    "model.add(Conv2D(64,(3,3),activation='relu',input_shape=(28,28,1)))\n",
    "model.add(Flatten())\n",
    "model.add(Dense(64,activation='relu'))\n",
    "model.add(Dense(10,activation='softmax'))\n",
    "model.summary()"
   ]
  },
  {
   "cell_type": "code",
   "execution_count": 3,
   "metadata": {},
   "outputs": [
    {
     "name": "stdout",
     "output_type": "stream",
     "text": [
      "Downloading data from https://s3.amazonaws.com/img-datasets/mnist.npz\n",
      "11493376/11490434 [==============================] - 4s 0us/step\n"
     ]
    }
   ],
   "source": [
    "#Dataset\n",
    "from keras.datasets import mnist\n",
    "from keras.utils import to_categorical\n",
    "(XTrain,YTrain),(XTest,YTest) = mnist.load_data()"
   ]
  },
  {
   "cell_type": "code",
   "execution_count": 4,
   "metadata": {},
   "outputs": [
    {
     "name": "stdout",
     "output_type": "stream",
     "text": [
      "(60000, 28, 28, 1) (60000, 10)\n",
      "(10000, 28, 28, 1) (10000, 10)\n"
     ]
    }
   ],
   "source": [
    "def preprocess_data(X,Y):\n",
    "    X = X.reshape((-1,28,28,1))\n",
    "    X = X/255.0\n",
    "    Y = to_categorical(Y)\n",
    "    return X,Y\n",
    "\n",
    "XTrain,YTrain = preprocess_data(XTrain,YTrain)\n",
    "print(XTrain.shape,YTrain.shape)\n",
    "\n",
    "XTest,YTest = preprocess_data(XTest,YTest)\n",
    "print(XTest.shape,YTest.shape)"
   ]
  },
  {
   "cell_type": "code",
   "execution_count": 5,
   "metadata": {},
   "outputs": [
    {
     "name": "stdout",
     "output_type": "stream",
     "text": [
      "Train on 54000 samples, validate on 6000 samples\n",
      "Epoch 1/20\n",
      "54000/54000 [==============================] - 37s 682us/step - loss: 0.2681 - accuracy: 0.9214 - val_loss: 0.0702 - val_accuracy: 0.9793\n",
      "Epoch 2/20\n",
      "54000/54000 [==============================] - 34s 630us/step - loss: 0.0657 - accuracy: 0.9795 - val_loss: 0.0528 - val_accuracy: 0.9862\n",
      "Epoch 3/20\n",
      "54000/54000 [==============================] - 34s 627us/step - loss: 0.0452 - accuracy: 0.9856 - val_loss: 0.0402 - val_accuracy: 0.9890\n",
      "Epoch 4/20\n",
      "54000/54000 [==============================] - 35s 639us/step - loss: 0.0342 - accuracy: 0.9890 - val_loss: 0.0423 - val_accuracy: 0.9875\n",
      "Epoch 5/20\n",
      "54000/54000 [==============================] - 35s 642us/step - loss: 0.0285 - accuracy: 0.9907 - val_loss: 0.0384 - val_accuracy: 0.9900\n",
      "Epoch 6/20\n",
      "54000/54000 [==============================] - 34s 639us/step - loss: 0.0216 - accuracy: 0.9933 - val_loss: 0.0396 - val_accuracy: 0.9900\n",
      "Epoch 7/20\n",
      "54000/54000 [==============================] - 35s 639us/step - loss: 0.0201 - accuracy: 0.9934 - val_loss: 0.0451 - val_accuracy: 0.9885\n",
      "Epoch 8/20\n",
      "54000/54000 [==============================] - 35s 645us/step - loss: 0.0180 - accuracy: 0.9939 - val_loss: 0.0452 - val_accuracy: 0.9887\n",
      "Epoch 9/20\n",
      "54000/54000 [==============================] - 35s 641us/step - loss: 0.0149 - accuracy: 0.9951 - val_loss: 0.0364 - val_accuracy: 0.9905\n",
      "Epoch 10/20\n",
      "54000/54000 [==============================] - 34s 636us/step - loss: 0.0110 - accuracy: 0.9964 - val_loss: 0.0474 - val_accuracy: 0.9882\n",
      "Epoch 11/20\n",
      "54000/54000 [==============================] - 34s 636us/step - loss: 0.0119 - accuracy: 0.9958 - val_loss: 0.0397 - val_accuracy: 0.9918\n",
      "Epoch 12/20\n",
      "54000/54000 [==============================] - 35s 640us/step - loss: 0.0092 - accuracy: 0.9966 - val_loss: 0.0439 - val_accuracy: 0.9897\n",
      "Epoch 13/20\n",
      "54000/54000 [==============================] - 36s 658us/step - loss: 0.0085 - accuracy: 0.9973 - val_loss: 0.0354 - val_accuracy: 0.9927\n",
      "Epoch 14/20\n",
      "54000/54000 [==============================] - 35s 650us/step - loss: 0.0091 - accuracy: 0.9971 - val_loss: 0.0489 - val_accuracy: 0.9893\n",
      "Epoch 15/20\n",
      "54000/54000 [==============================] - 35s 647us/step - loss: 0.0078 - accuracy: 0.9973 - val_loss: 0.0372 - val_accuracy: 0.9905\n",
      "Epoch 16/20\n",
      "54000/54000 [==============================] - 35s 649us/step - loss: 0.0067 - accuracy: 0.9977 - val_loss: 0.0431 - val_accuracy: 0.9917\n",
      "Epoch 17/20\n",
      "54000/54000 [==============================] - 38s 703us/step - loss: 0.0048 - accuracy: 0.9983 - val_loss: 0.0411 - val_accuracy: 0.9918\n",
      "Epoch 18/20\n",
      "54000/54000 [==============================] - 35s 646us/step - loss: 0.0057 - accuracy: 0.9981 - val_loss: 0.0415 - val_accuracy: 0.9915\n",
      "Epoch 19/20\n",
      "54000/54000 [==============================] - 34s 637us/step - loss: 0.0050 - accuracy: 0.9984 - val_loss: 0.0459 - val_accuracy: 0.9905\n",
      "Epoch 20/20\n",
      "54000/54000 [==============================] - 38s 707us/step - loss: 0.0061 - accuracy: 0.9977 - val_loss: 0.0451 - val_accuracy: 0.9910\n"
     ]
    }
   ],
   "source": [
    "\n",
    "# Model Compilation\n",
    "model.compile(optimizer='adam',loss='categorical_crossentropy',metrics=['accuracy'])\n",
    "hist = model.fit(XTrain,YTrain,epochs=20,validation_split=0.1,batch_size=128)"
   ]
  },
  {
   "cell_type": "code",
   "execution_count": 6,
   "metadata": {},
   "outputs": [
    {
     "name": "stdout",
     "output_type": "stream",
     "text": [
      "10000/10000 [==============================] - 2s 242us/step\n"
     ]
    },
    {
     "data": {
      "text/plain": [
       "[0.03241220030512642, 0.9908000230789185]"
      ]
     },
     "execution_count": 6,
     "metadata": {},
     "output_type": "execute_result"
    }
   ],
   "source": [
    "## after 13 epochs validation accuracy started decreasing\n",
    "model.evaluate(XTest,YTest)"
   ]
  },
  {
   "cell_type": "code",
   "execution_count": null,
   "metadata": {},
   "outputs": [],
   "source": []
  }
 ],
 "metadata": {
  "kernelspec": {
   "display_name": "Python 3",
   "language": "python",
   "name": "python3"
  },
  "language_info": {
   "codemirror_mode": {
    "name": "ipython",
    "version": 3
   },
   "file_extension": ".py",
   "mimetype": "text/x-python",
   "name": "python",
   "nbconvert_exporter": "python",
   "pygments_lexer": "ipython3",
   "version": "3.7.6"
  }
 },
 "nbformat": 4,
 "nbformat_minor": 4
}
